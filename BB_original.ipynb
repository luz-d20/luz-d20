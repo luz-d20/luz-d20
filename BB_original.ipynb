{
  "nbformat": 4,
  "nbformat_minor": 0,
  "metadata": {
    "colab": {
      "name": "BB_original.ipynb",
      "provenance": [],
      "collapsed_sections": [],
      "include_colab_link": true
    },
    "kernelspec": {
      "name": "python3",
      "display_name": "Python 3"
    },
    "language_info": {
      "name": "python"
    }
  },
  "cells": [
    {
      "cell_type": "markdown",
      "metadata": {
        "id": "view-in-github",
        "colab_type": "text"
      },
      "source": [
        "<a href=\"https://colab.research.google.com/github/luz-d20/luz-d20/blob/main/BB_original.ipynb\" target=\"_parent\"><img src=\"https://colab.research.google.com/assets/colab-badge.svg\" alt=\"Open In Colab\"/></a>"
      ]
    },
    {
      "cell_type": "code",
      "metadata": {
        "colab": {
          "base_uri": "https://localhost:8080/"
        },
        "id": "UB4tAfjK6XH2",
        "outputId": "d979376f-5f91-433d-d1d5-7c7cad789c2e"
      },
      "source": [
        "%%writefile vacuna.c\n",
        "\n",
        "#include <stdio.h>\n",
        "\n",
        "int calculaVacunas(int edad) {\n",
        "    int aux = 0;\n",
        "    if (edad > 0 && edad < 19) {\n",
        "        printf(\"No Se coloca\");\n",
        "        aux = 1;\n",
        "    } else if (edad > 19 && edad < 39) {\n",
        "        printf(\"No Se coloca\");\n",
        "        aux = 2;\n",
        "    } else if (edad > 39 && edad < 49) {\n",
        "        printf(\"Anotarse\");\n",
        "        aux = 3;\n",
        "    } else if (edad > 49 && edad < 59) {\n",
        "        printf(\"Astrazeneca\");\n",
        "        aux = 4;\n",
        "    } else if (edad > 59 && edad < 69) {\n",
        "        printf(\"Sputnik\");\n",
        "        aux = 5;\n",
        "    } else if (edad > 69 && edad < 79) {\n",
        "        printf(\"Pfizer\");\n",
        "        aux = 6;\n",
        "    } else if (edad > 79 && edad < 89) {\n",
        "        printf(\"Sinopharm\");\n",
        "        aux = 7;\n",
        "    } else if (edad > 89 && edad < 99) {\n",
        "        printf(\"Sputnik\");\n",
        "        aux = 8;\n",
        "    } else if (edad > 99 && edad < 109) {\n",
        "        printf(\"Moderna\");\n",
        "        aux = 1;\n",
        "    }\n",
        "    return aux;\n",
        "}\n"
      ],
      "execution_count": null,
      "outputs": [
        {
          "output_type": "stream",
          "text": [
            "Overwriting vacuna.c\n"
          ],
          "name": "stdout"
        }
      ]
    },
    {
      "cell_type": "code",
      "metadata": {
        "id": "sOske5Ui8lL7"
      },
      "source": [
        "!gcc -c -Wall -O2 -Wall -ansi -pedantic -fPIC -o vacuna.o vacuna.c\n",
        "!gcc -o libvacuna.so -shared vacuna.o"
      ],
      "execution_count": null,
      "outputs": []
    },
    {
      "cell_type": "code",
      "metadata": {
        "colab": {
          "base_uri": "https://localhost:8080/"
        },
        "id": "TsrLa44Y9Bcg",
        "outputId": "450dca2d-e3ae-4017-9022-1082edbf5302"
      },
      "source": [
        "%%file testVacunas.py\n",
        "\n",
        "import numpy\n",
        "import ctypes\n",
        "\n",
        "_libvacuna = numpy.ctypeslib.load_library('libvacuna', '.')\n",
        "\n",
        "_libvacuna.calculaVacunas.argtypes = [ctypes.c_int]\n",
        "_libvacuna.calculaVacunas.restype  =  ctypes.c_int\n",
        "\n",
        "def calculaVacunas(n):\n",
        "    return _libvacuna.calculaVacunas(int(n))\n"
      ],
      "execution_count": null,
      "outputs": [
        {
          "output_type": "stream",
          "text": [
            "Overwriting testVacunas.py\n"
          ],
          "name": "stdout"
        }
      ]
    },
    {
      "cell_type": "code",
      "metadata": {
        "colab": {
          "base_uri": "https://localhost:8080/"
        },
        "id": "Q47aueIP90Z6",
        "outputId": "54dd56d5-fa75-491f-813e-174a9b3d6daa"
      },
      "source": [
        "%%file test_vacunas_c.py\n",
        "\n",
        "import testVacunas\n",
        "\n",
        "testVacunas.calculaVacunas(1)"
      ],
      "execution_count": null,
      "outputs": [
        {
          "output_type": "stream",
          "text": [
            "Overwriting test_vacunas_c.py\n"
          ],
          "name": "stdout"
        }
      ]
    },
    {
      "cell_type": "code",
      "metadata": {
        "colab": {
          "base_uri": "https://localhost:8080/"
        },
        "id": "QHhhYVPE-KkB",
        "outputId": "3441abb8-da4b-4005-cf23-e3fc127eedf2"
      },
      "source": [
        "!python test_vacunas_c.py"
      ],
      "execution_count": null,
      "outputs": [
        {
          "output_type": "stream",
          "text": [
            "No Se coloca"
          ],
          "name": "stdout"
        }
      ]
    }
  ]
}